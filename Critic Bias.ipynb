{
 "cells": [
  {
   "cell_type": "markdown",
   "metadata": {},
   "source": [
    "# A Comparison of Metascores and User Reviews\n",
    "I'm interested in the relationship between professional and amateur opinions of games, so I thought metacritic would be a good place to start. Let's get scraping.\n",
    "\n",
    "We'll use pandas for storing the data, and selenium for the heavy lifting."
   ]
  },
  {
   "cell_type": "code",
   "execution_count": 1,
   "metadata": {},
   "outputs": [],
   "source": [
    "import pandas as pd\n",
    "from selenium import webdriver\n",
    "import os"
   ]
  },
  {
   "cell_type": "markdown",
   "metadata": {},
   "source": [
    "We'll use selenium for the scraping itself, and pandas to store the data."
   ]
  },
  {
   "cell_type": "code",
   "execution_count": 2,
   "metadata": {},
   "outputs": [],
   "source": [
    "CHROMEDRIVER_PATH = '/usr/lib/chromium-browser/chromedriver' # modify this as you need\n",
    "CSV_DIR = '/home/tim/Desktop/'"
   ]
  },
  {
   "cell_type": "markdown",
   "metadata": {},
   "source": [
    "We will store the full title (game title + platform) in `title`, the metascore in `metascore`, the average user score in `user`, and the date in `date` (to be converted to index later)."
   ]
  },
  {
   "cell_type": "code",
   "execution_count": 3,
   "metadata": {},
   "outputs": [],
   "source": [
    "br = webdriver.Chrome('/usr/lib/chromium-browser/chromedriver')\n",
    "df = pd.DataFrame(columns = ['title', 'metascore', 'user', 'date']) #"
   ]
  },
  {
   "cell_type": "markdown",
   "metadata": {},
   "source": [
    "Make sure you have ample time for this: it will take over an hour to download. All we're doing is going across all 150 pages, and collecting the results into `df` (I skipped over this step when I was editing this .ipynb file, because I already had the data). "
   ]
  },
  {
   "cell_type": "code",
   "execution_count": null,
   "metadata": {},
   "outputs": [],
   "source": [
    "BASE_URL = 'http://www.metacritic.com/browse/games/score/metascore/all/all/filtered?sort=desc'\n",
    "\n",
    "LIST_CSSS = '#main > div.module.filter.score_filter > div.module.products_module.list_product_condensed_ranked_module > div.body > div.body_wrap > div > div > div'\n",
    "TITLE_CSSS = 'div.product_title'\n",
    "METASCORE_CSSS = 'div.product_item.product_score > div'\n",
    "USERSCORE_CSSS = 'div.product_item.product_userscore_txt > span.data'\n",
    "DATE_CSSS = 'div.product_item.product_date'\n",
    "\n",
    "for n in range(150):\n",
    "    # to see where you are currently.\n",
    "    print('on page {}'.format(n+1))\n",
    "    \n",
    "    # build url\n",
    "    url = BASE_URL\n",
    "    if n > 0:\n",
    "        url += '&page={}'.format(n) # if we're not on page 1, add the page k/v url encoded argument\n",
    "        \n",
    "    # get page\n",
    "    br.get(url)\n",
    "    \n",
    "    # collect the info we need\n",
    "    try:\n",
    "        # select the whole list\n",
    "        prods = br.find_elements_by_css_selector(LIST_CSSS)\n",
    "\n",
    "        # select each element we want\n",
    "        titles = [prod.find_element_by_css_selector(TITLE_CSSS).text for prod in prods]\n",
    "        metascores = [prod.find_element_by_css_selector(METASCORE_CSSS).text for prod in prods]\n",
    "        userscores = [prod.find_element_by_css_selector(USERSCORE_CSSS).text for prod in prods]\n",
    "        dates = [prod.find_element_by_css_selector(DATE_CSSS).text for prod in prods]\n",
    "    except:\n",
    "        print('failed')\n",
    "    \n",
    "    # add it to `df`\n",
    "    df = df.append(pd.DataFrame(data = {'title': titles, 'metascore': metascores, 'user': userscores, 'date': dates}))"
   ]
  },
  {
   "cell_type": "code",
   "execution_count": 5,
   "metadata": {},
   "outputs": [
    {
     "data": {
      "text/html": [
       "<div>\n",
       "<style scoped>\n",
       "    .dataframe tbody tr th:only-of-type {\n",
       "        vertical-align: middle;\n",
       "    }\n",
       "\n",
       "    .dataframe tbody tr th {\n",
       "        vertical-align: top;\n",
       "    }\n",
       "\n",
       "    .dataframe thead th {\n",
       "        text-align: right;\n",
       "    }\n",
       "</style>\n",
       "<table border=\"1\" class=\"dataframe\">\n",
       "  <thead>\n",
       "    <tr style=\"text-align: right;\">\n",
       "      <th></th>\n",
       "      <th>date</th>\n",
       "      <th>title</th>\n",
       "      <th>platform</th>\n",
       "      <th>metascore</th>\n",
       "      <th>user</th>\n",
       "    </tr>\n",
       "  </thead>\n",
       "  <tbody>\n",
       "    <tr>\n",
       "      <th>0</th>\n",
       "      <td>1998-11-23</td>\n",
       "      <td>The Legend of Zelda: Ocarina of Time</td>\n",
       "      <td>N64</td>\n",
       "      <td>99.0</td>\n",
       "      <td>9.2</td>\n",
       "    </tr>\n",
       "    <tr>\n",
       "      <th>1</th>\n",
       "      <td>2000-09-20</td>\n",
       "      <td>Tony Hawk's Pro Skater 2</td>\n",
       "      <td>PS</td>\n",
       "      <td>98.0</td>\n",
       "      <td>7.4</td>\n",
       "    </tr>\n",
       "    <tr>\n",
       "      <th>2</th>\n",
       "      <td>2008-04-29</td>\n",
       "      <td>Grand Theft Auto IV</td>\n",
       "      <td>PS3</td>\n",
       "      <td>98.0</td>\n",
       "      <td>7.5</td>\n",
       "    </tr>\n",
       "    <tr>\n",
       "      <th>3</th>\n",
       "      <td>1999-09-08</td>\n",
       "      <td>SoulCalibur</td>\n",
       "      <td>DC</td>\n",
       "      <td>98.0</td>\n",
       "      <td>8.6</td>\n",
       "    </tr>\n",
       "    <tr>\n",
       "      <th>4</th>\n",
       "      <td>2008-04-29</td>\n",
       "      <td>Grand Theft Auto IV</td>\n",
       "      <td>X360</td>\n",
       "      <td>98.0</td>\n",
       "      <td>7.9</td>\n",
       "    </tr>\n",
       "  </tbody>\n",
       "</table>\n",
       "</div>"
      ],
      "text/plain": [
       "         date                                 title platform  metascore user\n",
       "0  1998-11-23  The Legend of Zelda: Ocarina of Time      N64       99.0  9.2\n",
       "1  2000-09-20              Tony Hawk's Pro Skater 2       PS       98.0  7.4\n",
       "2  2008-04-29                   Grand Theft Auto IV      PS3       98.0  7.5\n",
       "3  1999-09-08                           SoulCalibur       DC       98.0  8.6\n",
       "4  2008-04-29                   Grand Theft Auto IV     X360       98.0  7.9"
      ]
     },
     "execution_count": 5,
     "metadata": {},
     "output_type": "execute_result"
    }
   ],
   "source": [
    "df.head()"
   ]
  },
  {
   "cell_type": "markdown",
   "metadata": {},
   "source": [
    "Now, we need to convert data into the types we want.\n",
    "\n",
    "First, let's deal with the dates"
   ]
  },
  {
   "cell_type": "code",
   "execution_count": 6,
   "metadata": {},
   "outputs": [],
   "source": [
    "df['date'] = pd.to_datetime(df['date']) # convert date column to actual dates\n",
    "df.set_index(df['date'], inplace=True) # set the index\n",
    "df.sort_index(inplace=True)"
   ]
  },
  {
   "cell_type": "markdown",
   "metadata": {},
   "source": [
    "This is a good time to write the unmodified data to a file."
   ]
  },
  {
   "cell_type": "code",
   "execution_count": null,
   "metadata": {},
   "outputs": [],
   "source": [
    "path = os.path.join(CSV_DIR, 'game_review.csv')\n",
    "df.to_csv(path)"
   ]
  },
  {
   "cell_type": "markdown",
   "metadata": {},
   "source": [
    "Now, if you want to reload this later, you can execute the following:"
   ]
  },
  {
   "cell_type": "code",
   "execution_count": 4,
   "metadata": {},
   "outputs": [],
   "source": [
    "path = os.path.join(CSV_DIR, 'game_review.csv')\n",
    "df = pd.read_csv(path)"
   ]
  },
  {
   "cell_type": "markdown",
   "metadata": {},
   "source": [
    "Now, `metascore` and `user`. We'll convert them to floats, but we first need to select only those values that can be converted. We'll do this by defining a mask. Refer to [this SO post](https://stackoverflow.com/questions/22239691/code-for-line-of-best-fit-of-a-scatter-plot-in-python) for more conversion options. If you want to keep this data, then skip over this section. You'll lose ~1300 rows."
   ]
  },
  {
   "cell_type": "code",
   "execution_count": 7,
   "metadata": {},
   "outputs": [],
   "source": [
    "mask = pd.to_numeric(df['user'], errors='coerce').notnull() & \\\n",
    "       pd.to_numeric(df['metascore'], errors='coerce').notnull()\n",
    "    \n",
    "df = df[mask]"
   ]
  },
  {
   "cell_type": "markdown",
   "metadata": {},
   "source": [
    "Casting will go without fuss now:"
   ]
  },
  {
   "cell_type": "code",
   "execution_count": 8,
   "metadata": {},
   "outputs": [],
   "source": [
    "df['user'] = df['user'].astype(float)\n",
    "df['metascore'] = df['metascore'].astype(float)"
   ]
  },
  {
   "cell_type": "markdown",
   "metadata": {},
   "source": [
    "There's one more stitch in our sides: each game has a platform parenthesized, like \"(N64)\". Ideally, we would like this to be a separate column. We'll use regexps to accomplish that."
   ]
  },
  {
   "cell_type": "code",
   "execution_count": null,
   "metadata": {},
   "outputs": [],
   "source": [
    "import re\n",
    "\n",
    "def sep_title_platform(full_title):\n",
    "    match = re.search('(.*) \\((.*)\\)$', full_title)\n",
    "    return (match.group(1), match.group(2)) # group 1 corresponds to title, and group 2 to the platform\n",
    "\n",
    "title_platform = df.loc[:, 'title'].apply(sep_title_platform)\n",
    "\n",
    "# set title to just the game title, and add a platform column\n",
    "df['title'] = title_platform.apply(lambda t: t[0])\n",
    "df['platform'] = title_platform.apply(lambda t: t[1])"
   ]
  },
  {
   "cell_type": "markdown",
   "metadata": {},
   "source": [
    "Now, we can look at the data. We want to compare metascores to user scores, but they are on different scales - specifically, metascore has a maximum of 100 while user score has a maximum of 10. It's a simple fix."
   ]
  },
  {
   "cell_type": "code",
   "execution_count": 9,
   "metadata": {},
   "outputs": [],
   "source": [
    "df['sc_metascore'] = df['metascore'] / 100\n",
    "df['sc_user'] = df['user'] / 10"
   ]
  },
  {
   "cell_type": "markdown",
   "metadata": {},
   "source": [
    "Now, we can take a difference between the two."
   ]
  },
  {
   "cell_type": "code",
   "execution_count": 10,
   "metadata": {},
   "outputs": [],
   "source": [
    "df['delta'] = df['sc_metascore'] - df['sc_user']"
   ]
  },
  {
   "cell_type": "markdown",
   "metadata": {},
   "source": [
    "Ok, great. Let's check out a distribution plot of delta."
   ]
  },
  {
   "cell_type": "code",
   "execution_count": 11,
   "metadata": {},
   "outputs": [],
   "source": [
    "import matplotlib.pyplot as plt\n",
    "import seaborn as sns"
   ]
  },
  {
   "cell_type": "code",
   "execution_count": 12,
   "metadata": {},
   "outputs": [
    {
     "data": {
      "image/png": "[encoded data removed]",
      "text/plain": [
       "<matplotlib.figure.Figure at 0x7f1f094771d0>"
      ]
     },
     "metadata": {},
     "output_type": "display_data"
    }
   ],
   "source": [
    "sns.distplot(df['delta'])\n",
    "plt.title('Discrepancy Distribution Plot')\n",
    "plt.show()"
   ]
  },
  {
   "cell_type": "markdown",
   "metadata": {},
   "source": [
    "Hmm, looks almost normal. Let's check."
   ]
  },
  {
   "cell_type": "code",
   "execution_count": 13,
   "metadata": {},
   "outputs": [
    {
     "data": {
      "text/plain": [
       "(2355.4502748912682, 0.0)"
      ]
     },
     "execution_count": 13,
     "metadata": {},
     "output_type": "execute_result"
    }
   ],
   "source": [
    "from scipy.stats import jarque_bera\n",
    "\n",
    "jarque_bera(df['delta'])"
   ]
  },
  {
   "cell_type": "markdown",
   "metadata": {},
   "source": [
    "Not encouraging. Is it log-normal?"
   ]
  },
  {
   "cell_type": "code",
   "execution_count": 14,
   "metadata": {},
   "outputs": [
    {
     "data": {
      "text/plain": [
       "(1265.8814108236681, 0.0)"
      ]
     },
     "execution_count": 14,
     "metadata": {},
     "output_type": "execute_result"
    }
   ],
   "source": [
    "import numpy as np\n",
    "\n",
    "jarque_bera(np.log1p(df['delta']))"
   ]
  },
  {
   "cell_type": "markdown",
   "metadata": {},
   "source": [
    "Apparently not. I am in no way a statistician. Let's move on.\n",
    "\n",
    "One thing I've noticed with game reviews is that they seem to deviate more and more from what the average user thinks of it. It seems like I hear IGN hyping the next Call of Duty as a real game-changer, just to hear disappointed fans after the release. Let's test this hypothesis.\n",
    "\n",
    "A good start would be to check pearson's correlation coefficient."
   ]
  },
  {
   "cell_type": "code",
   "execution_count": 15,
   "metadata": {},
   "outputs": [],
   "source": [
    "deltas = df['delta']\n",
    "\n",
    "# create an integer time series by converting the dates to unix timestamps\n",
    "times = (pd.Series(deltas.index) - pd.to_datetime('1970')).dt.total_seconds()"
   ]
  },
  {
   "cell_type": "code",
   "execution_count": 16,
   "metadata": {},
   "outputs": [
    {
     "data": {
      "text/plain": [
       "(0.26633855987433053, 9.098117253138759e-220)"
      ]
     },
     "execution_count": 16,
     "metadata": {},
     "output_type": "execute_result"
    }
   ],
   "source": [
    "from scipy.stats import pearsonr\n",
    "pearsonr(times, deltas)"
   ]
  },
  {
   "cell_type": "markdown",
   "metadata": {},
   "source": [
    "That's not a very strong correlation. Maybe a plot would show us better?"
   ]
  },
  {
   "cell_type": "code",
   "execution_count": 17,
   "metadata": {},
   "outputs": [
    {
     "data": {
      "image/png": "[encoded data removed]",
      "text/plain": [
       "<matplotlib.figure.Figure at 0x7f1f093ea0b8>"
      ]
     },
     "metadata": {},
     "output_type": "display_data"
    }
   ],
   "source": [
    "plt.scatter(deltas.index, deltas)\n",
    "plt.show()"
   ]
  },
  {
   "cell_type": "markdown",
   "metadata": {},
   "source": [
    "It certainly doesn't look like there's much correlation. That makes sense though. On smaller timescales, there can be a ton of variation. We should instead look at averages over time. A rolling average is what we're looking for."
   ]
  },
  {
   "cell_type": "code",
   "execution_count": 18,
   "metadata": {},
   "outputs": [],
   "source": [
    "window = 365 # chosen arbitrarily\n",
    "rolling = deltas.rolling(window).mean().dropna()\n",
    "times = (pd.Series(rolling.index) - pd.to_datetime('1970')).dt.total_seconds()"
   ]
  },
  {
   "cell_type": "code",
   "execution_count": 19,
   "metadata": {},
   "outputs": [
    {
     "data": {
      "text/plain": [
       "(0.92454418215698186, 0.0)"
      ]
     },
     "execution_count": 19,
     "metadata": {},
     "output_type": "execute_result"
    }
   ],
   "source": [
    "pearsonr(times, rolling)"
   ]
  },
  {
   "cell_type": "markdown",
   "metadata": {},
   "source": [
    "That is very promising!"
   ]
  },
  {
   "cell_type": "code",
   "execution_count": 20,
   "metadata": {},
   "outputs": [],
   "source": [
    "from scipy.stats import linregress\n",
    "slope, intercept, r_value, p_value, std_err = linregress(times, rolling)\n",
    "abline_values = pd.Series([slope * i + intercept for i in times])"
   ]
  },
  {
   "cell_type": "code",
   "execution_count": 21,
   "metadata": {},
   "outputs": [
    {
     "data": {
      "image/png": "[encoded data removed]",
      "text/plain": [
       "<matplotlib.figure.Figure at 0x7f1f09437a58>"
      ]
     },
     "metadata": {},
     "output_type": "display_data"
    }
   ],
   "source": [
    "plt.plot(rolling.index, rolling, label='Rolling Average')\n",
    "plt.plot(rolling.index, abline_values, label='Regression')\n",
    "plt.xlabel('Year')\n",
    "plt.ylabel('Discrepancy')\n",
    "plt.legend()\n",
    "plt.title('The Hype Train')\n",
    "plt.show()"
   ]
  },
  {
   "cell_type": "markdown",
   "metadata": {},
   "source": [
    "There is a fairly obvious trend from about 2005 to the latest data. Remember, a positive discrepancy means that the metascore is higher than the average user score. Stated differently, the 'critics' thought the game was better than it was. \n",
    "\n",
    "Obviously, the reasons for such a trend are not one-dimensional. It's possible that players bitter about their poor purchases judge games much more harshly than the critics. However, I would point towards AAA companies increasing their budgets on games, particularly towards marketing. I think it is fair to say the incentives are different. Players just want to play good games. At the end of the day, critics review games for money. Who is footing the bill? Perhaps it is the game developers with the clear incentive of higher sales.\n",
    "\n",
    "I'm not suggesting that we shouldn't take professional critic reviews into account. Maybe I'm just rehashing popular advice, but I suggest that consumers take these reviews with a grain of salt. I think we would be better off if game companies stopped incentivizing game review companies to write good reviews for their games, as we would get more objective reviews about our games, and we may also get better games.\n",
    "\n",
    "In the future, I will try to gather data on marketing costs and more directly see if this correlation holds. Maybe someone else will beat me to it :)."
   ]
  },
  {
   "cell_type": "code",
   "execution_count": null,
   "metadata": {},
   "outputs": [],
   "source": []
  }
 ],
 "metadata": {
  "kernelspec": {
   "display_name": "Python 3",
   "language": "python",
   "name": "python3"
  },
  "language_info": {
   "codemirror_mode": {
    "name": "ipython",
    "version": 3
   },
   "file_extension": ".py",
   "mimetype": "text/x-python",
   "name": "python",
   "nbconvert_exporter": "python",
   "pygments_lexer": "ipython3",
   "version": "3.5.2"
  }
 },
 "nbformat": 4,
 "nbformat_minor": 2
}
